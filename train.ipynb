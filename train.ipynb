{
 "cells": [
  {
   "cell_type": "code",
   "execution_count": 1,
   "metadata": {
    "collapsed": true
   },
   "outputs": [],
   "source": [
    "import pickle\n",
    "import json\n",
    "import copy\n",
    "import random\n",
    "from sklearn.model_selection import train_test_split\n",
    "\n",
    "import numpy as np\n",
    "from torch.utils.data import  Dataset, DataLoader\n",
    "import random\n",
    "from sklearn.model_selection import train_test_split\n",
    "\n",
    "import torch\n",
    "import torch.nn as nn\n",
    "import torch.nn.parallel\n",
    "import torch.optim as optim\n",
    "\n",
    "from tqdm import tqdm_notebook"
   ]
  },
  {
   "cell_type": "code",
   "execution_count": 5,
   "metadata": {
    "collapsed": true
   },
   "outputs": [],
   "source": [
    "class SongDataset(Dataset):    \n",
    "\n",
    "    def __init__(self, songs, max_song):\n",
    "        \n",
    "        self.songs = songs\n",
    "        self.max_song = max_song\n",
    "        self.vector = np.zeros(max_song, dtype=np.float32)\n",
    "        \n",
    "    def get_vector(self, vec):\n",
    "        cop_vector = copy.deepcopy(self.vector)\n",
    "        if vec:\n",
    "            cop_vector[vec] = 1            \n",
    "        return cop_vector    \n",
    "\n",
    "        \n",
    "    def denosing(self, x):\n",
    "        if len(x)<2:\n",
    "            return x\n",
    "        tr, te = train_test_split(x, test_size=0.2)\n",
    "        return tr\n",
    "    \n",
    "    def __getitem__(self, idx):\n",
    "        \n",
    "        x = self.songs[idx]        \n",
    "        d_x = self.denosing(x)\n",
    "        d_x = self.get_vector(d_x)\n",
    "        x = self.get_vector(x)\n",
    "        return d_x, x\n",
    "        \n",
    "    def __len__(self):\n",
    "        return len(self.songs)\n"
   ]
  },
  {
   "cell_type": "code",
   "execution_count": 2,
   "metadata": {
    "collapsed": false
   },
   "outputs": [],
   "source": [
    "with open('./dataset/meta.pkl', 'rb') as f:\n",
    "    meta = pickle.load(f)\n",
    "    max_song = len(meta['idx_song'])\n",
    "\n",
    "with open('./dataset/train.json', encoding='UTF-8') as json_file:\n",
    "    data = json.load(json_file)"
   ]
  },
  {
   "cell_type": "code",
   "execution_count": 3,
   "metadata": {
    "collapsed": false
   },
   "outputs": [],
   "source": [
    "songs = [x[\"songs\"]  for x in data]"
   ]
  },
  {
   "cell_type": "code",
   "execution_count": 4,
   "metadata": {
    "collapsed": false
   },
   "outputs": [
    {
     "data": {
      "text/plain": [
       "707989"
      ]
     },
     "execution_count": 4,
     "metadata": {},
     "output_type": "execute_result"
    }
   ],
   "source": [
    "max_song"
   ]
  },
  {
   "cell_type": "code",
   "execution_count": 5,
   "metadata": {
    "collapsed": true
   },
   "outputs": [],
   "source": [
    "# http://cs230.stanford.edu/files_winter_2018/projects/6937581.pdf\n",
    "# https://openreview.net/pdf?id=SkNQeiRpb\n",
    "# n, 128, 256, 256, dp(0.65), 256, 128, n"
   ]
  },
  {
   "cell_type": "code",
   "execution_count": 7,
   "metadata": {
    "collapsed": true
   },
   "outputs": [],
   "source": [
    "def mse_loss_with_nans(output, target):\n",
    "\n",
    "    # Missing data are nan's\n",
    "    # mask = torch.isnan(target)\n",
    "\n",
    "    # Missing data are 0's\n",
    "    mask = target == 0\n",
    "\n",
    "    out = (output[~mask]-target[~mask])**2\n",
    "    loss = out.mean()\n",
    "\n",
    "    return torch.sqrt(loss)"
   ]
  },
  {
   "cell_type": "code",
   "execution_count": 8,
   "metadata": {
    "collapsed": false
   },
   "outputs": [],
   "source": [
    "dataset = SongDataset(songs, max_song)\n",
    "dataloader = DataLoader(dataset, batch_size=32, shuffle=True)"
   ]
  },
  {
   "cell_type": "code",
   "execution_count": 8,
   "metadata": {
    "collapsed": true
   },
   "outputs": [],
   "source": []
  },
  {
   "cell_type": "code",
   "execution_count": 9,
   "metadata": {
    "collapsed": false
   },
   "outputs": [],
   "source": [
    "# n -> 128 -> 256 -> 256 -> || -> 256 -> \n",
    "class AE(nn.Module):\n",
    "    def __init__(self, max_song):\n",
    "        \n",
    "        super(AE, self).__init__()        \n",
    "        self.encoder = nn.Sequential(\n",
    "                    nn.Linear(max_song, 128), \n",
    "                    nn.SELU(),\n",
    "                    nn.Linear(128, 256),\n",
    "                    nn.SELU(),\n",
    "                    nn.Linear(256, 256),\n",
    "                    nn.SELU()\n",
    "        )\n",
    "        self.dropout = nn.Dropout(p=0.7)\n",
    "        self.decoder = nn.Sequential(\n",
    "                    nn.Linear(256, 256),\n",
    "                    nn.SELU(),                    \n",
    "                    nn.Linear(256, 128),\n",
    "                    nn.SELU(),                    \n",
    "                    nn.Linear(128, max_song), \n",
    "                    nn.SELU()\n",
    "        )\n",
    "        \n",
    "    def forward(self, x):\n",
    "        \n",
    "        x = self.encoder(x)\n",
    "        x = self.dropout(x)\n",
    "        x = self.decoder(x)        \n",
    "        \n",
    "        return x\n",
    "model = AE(max_song)\n",
    "criterion = mse_loss_with_nans\n",
    "# criterion = nn.MSELoss()\n",
    "optimizer = optim.Adam(model.parameters(), lr = 0.001)"
   ]
  },
  {
   "cell_type": "code",
   "execution_count": 10,
   "metadata": {
    "collapsed": false
   },
   "outputs": [
    {
     "name": "stdout",
     "output_type": "stream",
     "text": [
      "\n"
     ]
    },
    {
     "ename": "RuntimeError",
     "evalue": "[enforce fail at ..\\c10\\core\\CPUAllocator.cpp:72] data. DefaultCPUAllocator: not enough memory: you tried to allocate 362490368 bytes. Buy new RAM!\n",
     "output_type": "error",
     "traceback": [
      "\u001b[0;31m---------------------------------------------------------------------------\u001b[0m",
      "\u001b[0;31mRuntimeError\u001b[0m                              Traceback (most recent call last)",
      "\u001b[0;32m<ipython-input-10-cfb669fc8ee8>\u001b[0m in \u001b[0;36m<module>\u001b[0;34m()\u001b[0m\n\u001b[1;32m     14\u001b[0m         \u001b[0mloss\u001b[0m \u001b[1;33m=\u001b[0m \u001b[0mcriterion\u001b[0m\u001b[1;33m(\u001b[0m\u001b[0moutput\u001b[0m\u001b[1;33m,\u001b[0m \u001b[0mx\u001b[0m\u001b[1;33m)\u001b[0m\u001b[1;33m\u001b[0m\u001b[0m\n\u001b[1;32m     15\u001b[0m         \u001b[0mloss\u001b[0m\u001b[1;33m.\u001b[0m\u001b[0mbackward\u001b[0m\u001b[1;33m(\u001b[0m\u001b[1;33m)\u001b[0m\u001b[1;33m\u001b[0m\u001b[0m\n\u001b[0;32m---> 16\u001b[0;31m         \u001b[0moptimizer\u001b[0m\u001b[1;33m.\u001b[0m\u001b[0mstep\u001b[0m\u001b[1;33m(\u001b[0m\u001b[1;33m)\u001b[0m\u001b[1;33m\u001b[0m\u001b[0m\n\u001b[0m\u001b[1;32m     17\u001b[0m         \u001b[0mrunning_loss\u001b[0m \u001b[1;33m+=\u001b[0m \u001b[0mloss\u001b[0m\u001b[1;33m.\u001b[0m\u001b[0mitem\u001b[0m\u001b[1;33m(\u001b[0m\u001b[1;33m)\u001b[0m\u001b[1;33m\u001b[0m\u001b[0m\n\u001b[1;32m     18\u001b[0m \u001b[1;33m\u001b[0m\u001b[0m\n",
      "\u001b[0;32mC:\\Users\\com\\Anaconda3\\lib\\site-packages\\torch\\autograd\\grad_mode.py\u001b[0m in \u001b[0;36mdecorate_context\u001b[0;34m(*args, **kwargs)\u001b[0m\n\u001b[1;32m     13\u001b[0m         \u001b[1;32mdef\u001b[0m \u001b[0mdecorate_context\u001b[0m\u001b[1;33m(\u001b[0m\u001b[1;33m*\u001b[0m\u001b[0margs\u001b[0m\u001b[1;33m,\u001b[0m \u001b[1;33m**\u001b[0m\u001b[0mkwargs\u001b[0m\u001b[1;33m)\u001b[0m\u001b[1;33m:\u001b[0m\u001b[1;33m\u001b[0m\u001b[0m\n\u001b[1;32m     14\u001b[0m             \u001b[1;32mwith\u001b[0m \u001b[0mself\u001b[0m\u001b[1;33m:\u001b[0m\u001b[1;33m\u001b[0m\u001b[0m\n\u001b[0;32m---> 15\u001b[0;31m                 \u001b[1;32mreturn\u001b[0m \u001b[0mfunc\u001b[0m\u001b[1;33m(\u001b[0m\u001b[1;33m*\u001b[0m\u001b[0margs\u001b[0m\u001b[1;33m,\u001b[0m \u001b[1;33m**\u001b[0m\u001b[0mkwargs\u001b[0m\u001b[1;33m)\u001b[0m\u001b[1;33m\u001b[0m\u001b[0m\n\u001b[0m\u001b[1;32m     16\u001b[0m         \u001b[1;32mreturn\u001b[0m \u001b[0mdecorate_context\u001b[0m\u001b[1;33m\u001b[0m\u001b[0m\n\u001b[1;32m     17\u001b[0m \u001b[1;33m\u001b[0m\u001b[0m\n",
      "\u001b[0;32mC:\\Users\\com\\Anaconda3\\lib\\site-packages\\torch\\optim\\adam.py\u001b[0m in \u001b[0;36mstep\u001b[0;34m(self, closure)\u001b[0m\n\u001b[1;32m    105\u001b[0m                     \u001b[0mdenom\u001b[0m \u001b[1;33m=\u001b[0m \u001b[1;33m(\u001b[0m\u001b[0mmax_exp_avg_sq\u001b[0m\u001b[1;33m.\u001b[0m\u001b[0msqrt\u001b[0m\u001b[1;33m(\u001b[0m\u001b[1;33m)\u001b[0m \u001b[1;33m/\u001b[0m \u001b[0mmath\u001b[0m\u001b[1;33m.\u001b[0m\u001b[0msqrt\u001b[0m\u001b[1;33m(\u001b[0m\u001b[0mbias_correction2\u001b[0m\u001b[1;33m)\u001b[0m\u001b[1;33m)\u001b[0m\u001b[1;33m.\u001b[0m\u001b[0madd_\u001b[0m\u001b[1;33m(\u001b[0m\u001b[0mgroup\u001b[0m\u001b[1;33m[\u001b[0m\u001b[1;34m'eps'\u001b[0m\u001b[1;33m]\u001b[0m\u001b[1;33m)\u001b[0m\u001b[1;33m\u001b[0m\u001b[0m\n\u001b[1;32m    106\u001b[0m                 \u001b[1;32melse\u001b[0m\u001b[1;33m:\u001b[0m\u001b[1;33m\u001b[0m\u001b[0m\n\u001b[0;32m--> 107\u001b[0;31m                     \u001b[0mdenom\u001b[0m \u001b[1;33m=\u001b[0m \u001b[1;33m(\u001b[0m\u001b[0mexp_avg_sq\u001b[0m\u001b[1;33m.\u001b[0m\u001b[0msqrt\u001b[0m\u001b[1;33m(\u001b[0m\u001b[1;33m)\u001b[0m \u001b[1;33m/\u001b[0m \u001b[0mmath\u001b[0m\u001b[1;33m.\u001b[0m\u001b[0msqrt\u001b[0m\u001b[1;33m(\u001b[0m\u001b[0mbias_correction2\u001b[0m\u001b[1;33m)\u001b[0m\u001b[1;33m)\u001b[0m\u001b[1;33m.\u001b[0m\u001b[0madd_\u001b[0m\u001b[1;33m(\u001b[0m\u001b[0mgroup\u001b[0m\u001b[1;33m[\u001b[0m\u001b[1;34m'eps'\u001b[0m\u001b[1;33m]\u001b[0m\u001b[1;33m)\u001b[0m\u001b[1;33m\u001b[0m\u001b[0m\n\u001b[0m\u001b[1;32m    108\u001b[0m \u001b[1;33m\u001b[0m\u001b[0m\n\u001b[1;32m    109\u001b[0m                 \u001b[0mstep_size\u001b[0m \u001b[1;33m=\u001b[0m \u001b[0mgroup\u001b[0m\u001b[1;33m[\u001b[0m\u001b[1;34m'lr'\u001b[0m\u001b[1;33m]\u001b[0m \u001b[1;33m/\u001b[0m \u001b[0mbias_correction1\u001b[0m\u001b[1;33m\u001b[0m\u001b[0m\n",
      "\u001b[0;31mRuntimeError\u001b[0m: [enforce fail at ..\\c10\\core\\CPUAllocator.cpp:72] data. DefaultCPUAllocator: not enough memory: you tried to allocate 362490368 bytes. Buy new RAM!\n"
     ]
    }
   ],
   "source": [
    "epochs = 10\n",
    "model.train()\n",
    "total_loss = list()\n",
    "path = \"model_{}.pth\"\n",
    "for epoch in range(epochs):\n",
    "    train_acc = 0.0\n",
    "    test_acc = 0.0\n",
    "    \n",
    "    running_loss = 0 \n",
    "    for batch_id, (dx, x) in enumerate(tqdm_notebook(dataloader)): #model.train()\n",
    "        optimizer.zero_grad()        \n",
    "        output = model(dx)\n",
    "        \n",
    "        loss = criterion(output, x)\n",
    "        loss.backward()\n",
    "        optimizer.step()         \n",
    "        running_loss += loss.item()\n",
    "        \n",
    "        if batch_id % 30 == 0:\n",
    "            print(\"epoch {} batch id {} run_loss {:.4f} loss {:.4f}\".format(epoch+1, batch_id+1, running_loss/(batch_id+1),loss.item() ))\n",
    "            \n",
    "    total_loss.append(running_loss/(batch_id+1))\n",
    "    print(total_loss)\n",
    "    w_path = path.format(str(epoch))\n",
    "    torch.save(model.state_dict(), w_path)\n"
   ]
  },
  {
   "cell_type": "code",
   "execution_count": null,
   "metadata": {
    "collapsed": true
   },
   "outputs": [],
   "source": []
  },
  {
   "cell_type": "code",
   "execution_count": null,
   "metadata": {
    "collapsed": true
   },
   "outputs": [],
   "source": []
  },
  {
   "cell_type": "code",
   "execution_count": null,
   "metadata": {
    "collapsed": true
   },
   "outputs": [],
   "source": []
  },
  {
   "cell_type": "code",
   "execution_count": 11,
   "metadata": {
    "collapsed": false
   },
   "outputs": [
    {
     "data": {
      "image/png": "[encoded data removed]",
      "text/plain": [
       "<matplotlib.figure.Figure at 0x17b2ac36898>"
      ]
     },
     "metadata": {},
     "output_type": "display_data"
    }
   ],
   "source": [
    "import matplotlib.pyplot as plt\n",
    "#year과 pop은 미리 세팅됨\n",
    "# Make a line plot: year on the x-axis, pop on the y-axis\n",
    "plt.plot(total_loss)\n",
    "plt.show()"
   ]
  },
  {
   "cell_type": "code",
   "execution_count": 12,
   "metadata": {
    "collapsed": false
   },
   "outputs": [
    {
     "data": {
      "text/plain": [
       "tensor([-0.1656,  0.1124,  0.0337,  ...,  0.8059,  0.3827, -0.0185],\n",
       "       grad_fn=<SelectBackward>)"
      ]
     },
     "execution_count": 12,
     "metadata": {},
     "output_type": "execute_result"
    }
   ],
   "source": [
    "output[0]"
   ]
  },
  {
   "cell_type": "code",
   "execution_count": null,
   "metadata": {
    "collapsed": true
   },
   "outputs": [],
   "source": []
  },
  {
   "cell_type": "code",
   "execution_count": null,
   "metadata": {
    "collapsed": true
   },
   "outputs": [],
   "source": []
  },
  {
   "cell_type": "code",
   "execution_count": null,
   "metadata": {
    "collapsed": true
   },
   "outputs": [],
   "source": []
  },
  {
   "cell_type": "code",
   "execution_count": 15,
   "metadata": {
    "collapsed": false
   },
   "outputs": [
    {
     "data": {
      "text/plain": [
       "tensor(131270)"
      ]
     },
     "execution_count": 15,
     "metadata": {},
     "output_type": "execute_result"
    }
   ],
   "source": [
    "torch.sum(output[0]>0.5)"
   ]
  },
  {
   "cell_type": "code",
   "execution_count": 13,
   "metadata": {
    "collapsed": false
   },
   "outputs": [
    {
     "data": {
      "text/plain": [
       "tensor([0.9891, 0.5362, 0.9547,  ..., 1.0000, 0.8872, 0.0445],\n",
       "       grad_fn=<SelectBackward>)"
      ]
     },
     "execution_count": 13,
     "metadata": {},
     "output_type": "execute_result"
    }
   ],
   "source": [
    "output[0][]"
   ]
  },
  {
   "cell_type": "code",
   "execution_count": 13,
   "metadata": {
    "collapsed": false
   },
   "outputs": [
    {
     "data": {
      "text/plain": [
       "array([ 24409,  26083,  44603,  49047,  49921,  59003,  66214,  67697,\n",
       "        87668,  95181, 109574, 116250, 116573, 118060, 119795, 121362,\n",
       "       147466, 155233, 178124, 180708, 183949, 193610, 194117, 209120,\n",
       "       216192, 219044, 231659, 241481, 246029, 253571, 258919, 285157,\n",
       "       290769, 291080, 304964, 321321, 330238, 330553, 336933, 340679,\n",
       "       342836, 348200, 355939, 356211, 362228, 372094, 373910, 375227,\n",
       "       377785, 382542, 385234, 390770, 393654, 395416, 408870, 418519,\n",
       "       438424, 440217, 442352, 465778, 472583, 485481, 491539, 504520,\n",
       "       522825, 526161, 528599, 545007, 570171, 578240, 582137, 584775,\n",
       "       586306, 590012, 600475, 604182, 606607, 608563, 610933, 617277,\n",
       "       625650, 625875, 629738, 638130, 639531, 645489, 650764, 651499,\n",
       "       656391, 657022, 669701, 670156, 674505, 686809, 700444, 701557,\n",
       "       707564])"
      ]
     },
     "execution_count": 13,
     "metadata": {},
     "output_type": "execute_result"
    }
   ],
   "source": [
    "a = np.arange(len(x[0]))[x[0]>0]\n",
    "a\n",
    "# y[0]"
   ]
  },
  {
   "cell_type": "code",
   "execution_count": 14,
   "metadata": {
    "collapsed": false
   },
   "outputs": [
    {
     "data": {
      "text/plain": [
       "array([ 26083,  44603,  66214,  87668,  95181, 116250, 116573, 119795,\n",
       "       121362, 147466, 155233, 178124, 180708, 183949, 193610, 194117,\n",
       "       216192, 219044, 231659, 241481, 246029, 253571, 258919, 290769,\n",
       "       291080, 304964, 321321, 330238, 336933, 340679, 342836, 355939,\n",
       "       356211, 362228, 373910, 382542, 385234, 390770, 393654, 395416,\n",
       "       408870, 418519, 438424, 440217, 442352, 465778, 472583, 485481,\n",
       "       491539, 522825, 526161, 528599, 545007, 570171, 578240, 582137,\n",
       "       584775, 586306, 606607, 608563, 610933, 617277, 625650, 629738,\n",
       "       638130, 639531, 645489, 651499, 656391, 657022, 669701, 670156,\n",
       "       674505, 686809, 700444, 701557, 707564])"
      ]
     },
     "execution_count": 14,
     "metadata": {},
     "output_type": "execute_result"
    }
   ],
   "source": [
    "np.arange(len(dx[0]))[dx[0]>0]"
   ]
  },
  {
   "cell_type": "code",
   "execution_count": 16,
   "metadata": {
    "collapsed": false
   },
   "outputs": [
    {
     "data": {
      "text/plain": [
       "array([ 24409,  26083,  44603,  49047,  49921,  59003,  66214,  67697,\n",
       "        87668,  95181, 109574, 116250, 116573, 118060, 119795, 121362,\n",
       "       147466, 155233, 178124, 180708, 183949, 193610, 194117, 209120,\n",
       "       216192, 219044, 231659, 241481, 246029, 253571, 258919, 285157,\n",
       "       290769, 291080, 304964, 321321, 330238, 330553, 336933, 340679,\n",
       "       342836, 348200, 355939, 356211, 362228, 372094, 373910, 375227,\n",
       "       377785, 382542, 385234, 390770, 393654, 395416, 408870, 418519,\n",
       "       438424, 440217, 442352, 465778, 472583, 485481, 491539, 504520,\n",
       "       522825, 526161, 528599, 545007, 570171, 578240, 582137, 584775,\n",
       "       586306, 590012, 600475, 604182, 606607, 608563, 610933, 617277,\n",
       "       625650, 625875, 629738, 638130, 639531, 645489, 650764, 651499,\n",
       "       656391, 657022, 669701, 670156, 674505, 686809, 700444, 701557,\n",
       "       707564])"
      ]
     },
     "execution_count": 16,
     "metadata": {},
     "output_type": "execute_result"
    }
   ],
   "source": [
    "aa = np.arange(len(x[0]))[x[0]>0]\n",
    "aa"
   ]
  },
  {
   "cell_type": "code",
   "execution_count": 17,
   "metadata": {
    "collapsed": false
   },
   "outputs": [
    {
     "data": {
      "text/plain": [
       "tensor([0.9989, 0.9734, 0.9883, 1.0041, 0.9984, 0.9938, 0.9261, 1.0370, 1.0375,\n",
       "        1.0848, 0.9601, 0.9917, 1.0259, 0.9806, 1.0084, 0.8422, 0.7190, 0.9086,\n",
       "        1.0424, 0.7072, 1.0020, 1.0485, 1.0163, 0.9784, 0.9217, 0.7594, 1.0091,\n",
       "        0.9789, 1.0274, 1.0168, 1.0186, 0.9595, 1.0157, 0.9761, 1.0449, 1.1034,\n",
       "        0.9751, 0.9663, 0.9651, 0.9696, 0.9361, 1.0330, 1.0471, 1.0555, 0.9818,\n",
       "        1.1405, 0.9849, 0.9537, 0.6701, 0.8301, 0.9741, 0.9297, 0.9484, 1.0126,\n",
       "        0.9874, 0.9863, 0.9769, 0.9835, 0.9959, 1.0085, 1.0536, 0.9525, 0.9900,\n",
       "        0.9912, 0.9709, 1.0245, 0.9543, 0.9528, 0.9482, 0.9554, 0.9042, 0.9140,\n",
       "        1.0114, 0.9912, 0.9008, 1.0192, 0.9766, 0.9125, 1.0154, 0.9694, 1.0152,\n",
       "        1.0227, 0.9649, 0.9949, 0.8577, 0.9965, 1.0723, 1.0934, 0.7656, 1.0328,\n",
       "        0.9908, 0.7995, 1.0298, 0.9836, 0.7657, 1.0039, 0.9773],\n",
       "       grad_fn=<IndexBackward>)"
      ]
     },
     "execution_count": 17,
     "metadata": {},
     "output_type": "execute_result"
    }
   ],
   "source": [
    "output[0][aa]"
   ]
  },
  {
   "cell_type": "code",
   "execution_count": 18,
   "metadata": {
    "collapsed": false
   },
   "outputs": [
    {
     "data": {
      "text/plain": [
       "array([570637,  55884, 142955, 525178, 135288, 496515,  48367, 549597,\n",
       "       413106, 525045, 705018, 591516, 145363, 139750, 476061, 200744,\n",
       "         9036, 194767, 154333, 570914, 457770, 455217,  48220, 138834,\n",
       "       650532, 691608, 209998, 488067,  89104, 603537, 110562, 415922,\n",
       "       701093, 665795, 152148, 306736,  10162, 404908, 416916,  37261,\n",
       "       287950, 571588,  43886,  38678, 281197, 515536, 587715, 124106,\n",
       "       439364,  29505,   3039, 226893, 359950,  88887, 666927, 373700,\n",
       "       460198, 291884, 571969, 569928, 421179,  48358, 268478, 673739,\n",
       "       690288, 641471, 391928, 154772, 483083, 428538, 306195, 700393,\n",
       "       382342, 420269, 511249, 585922, 545575, 603199, 416662, 509317,\n",
       "       358088, 160810, 219017, 528997, 126804, 558227, 542497, 121040,\n",
       "       411548, 202618, 112738, 196588,  44004, 460752, 100237, 681262,\n",
       "       593593, 154362, 416801, 383586], dtype=int64)"
      ]
     },
     "execution_count": 18,
     "metadata": {},
     "output_type": "execute_result"
    }
   ],
   "source": [
    "res = output[0].data.numpy().argsort()[-100:]\n",
    "res"
   ]
  },
  {
   "cell_type": "code",
   "execution_count": 21,
   "metadata": {
    "collapsed": false
   },
   "outputs": [
    {
     "data": {
      "text/plain": [
       "tensor([0.7839, 0.9263, 0.6435, 0.8657, 0.9375, 1.1569, 0.9021, 1.0635, 0.7660,\n",
       "        1.0110, 1.0078, 1.1363, 0.9434, 0.8942, 0.9051, 0.9163, 0.6797],\n",
       "       grad_fn=<IndexBackward>)"
      ]
     },
     "execution_count": 21,
     "metadata": {},
     "output_type": "execute_result"
    }
   ],
   "source": [
    "output[0][aa]"
   ]
  },
  {
   "cell_type": "code",
   "execution_count": 22,
   "metadata": {
    "collapsed": false
   },
   "outputs": [
    {
     "data": {
      "text/plain": [
       "array([1.3440679, 1.3441871, 1.3442128, 1.3443112, 1.3447115, 1.3449464,\n",
       "       1.3449816, 1.3450669, 1.3459816, 1.3461945, 1.3463833, 1.3482533,\n",
       "       1.3486217, 1.3487881, 1.3496361, 1.350858 , 1.3514051, 1.352024 ,\n",
       "       1.353617 , 1.3536423, 1.3541024, 1.3550597, 1.3551944, 1.3552893,\n",
       "       1.3565935, 1.3571932, 1.3573041, 1.3575879, 1.359416 , 1.359509 ,\n",
       "       1.3595399, 1.3601441, 1.3603214, 1.3609442, 1.361938 , 1.3626397,\n",
       "       1.3636484, 1.3637273, 1.3660142, 1.3662732, 1.3683466, 1.3698038,\n",
       "       1.3703653, 1.371133 , 1.3713459, 1.3715507, 1.3716218, 1.3734533,\n",
       "       1.3754936, 1.3755518, 1.3780223, 1.3797876, 1.3825054, 1.3831165,\n",
       "       1.3833661, 1.3843997, 1.3845721, 1.3857245, 1.3880674, 1.3887419,\n",
       "       1.3891057, 1.393857 , 1.3946155, 1.3947212, 1.3965513, 1.3979863,\n",
       "       1.3992945, 1.3994298, 1.4001682, 1.4002291, 1.400767 , 1.4012548,\n",
       "       1.4024173, 1.4029381, 1.4037236, 1.4039928, 1.4044383, 1.4045256,\n",
       "       1.404688 , 1.4057602, 1.4063166, 1.4072641, 1.4163641, 1.4169823,\n",
       "       1.4182907, 1.419734 , 1.4200761, 1.423029 , 1.4269862, 1.4415404,\n",
       "       1.4419385, 1.4429379, 1.4477113, 1.4728655, 1.4831645, 1.4860952,\n",
       "       1.5111022, 1.5130454, 1.5263574, 1.5351677], dtype=float32)"
      ]
     },
     "execution_count": 22,
     "metadata": {},
     "output_type": "execute_result"
    }
   ],
   "source": [
    "output[0].data.numpy()[res]"
   ]
  },
  {
   "cell_type": "code",
   "execution_count": 26,
   "metadata": {
    "collapsed": false
   },
   "outputs": [
    {
     "data": {
      "text/plain": [
       "111004"
      ]
     },
     "execution_count": 26,
     "metadata": {},
     "output_type": "execute_result"
    }
   ],
   "source": [
    "len(output[0][output[0]==1])"
   ]
  },
  {
   "cell_type": "code",
   "execution_count": 18,
   "metadata": {
    "collapsed": false
   },
   "outputs": [
    {
     "data": {
      "text/plain": [
       "tensor([1.0000, 1.0000, 1.0000, 1.0000, 1.0000, 1.0000, 1.0000, 1.0000, 1.0000,\n",
       "        1.0000, 1.0000, 1.0000, 1.0000, 1.0000, 1.0000, 1.0000, 1.0000, 1.0000,\n",
       "        1.0000, 1.0000, 1.0000, 1.0000, 1.0000, 1.0000, 1.0000, 1.0000, 1.0000,\n",
       "        1.0000, 1.0000, 0.9998, 1.0000, 1.0000, 1.0000, 1.0000, 1.0000, 1.0000,\n",
       "        1.0000, 1.0000, 1.0000, 0.9586, 1.0000, 1.0000, 1.0000, 1.0000, 1.0000,\n",
       "        1.0000, 1.0000, 1.0000, 1.0000, 1.0000, 0.9997, 1.0000, 1.0000, 1.0000,\n",
       "        1.0000, 1.0000, 1.0000, 1.0000, 1.0000, 1.0000, 1.0000, 1.0000, 1.0000,\n",
       "        1.0000, 1.0000, 1.0000, 1.0000, 1.0000, 1.0000, 1.0000, 1.0000, 1.0000,\n",
       "        1.0000, 1.0000, 1.0000, 1.0000, 1.0000, 1.0000, 1.0000, 1.0000, 1.0000,\n",
       "        0.9308, 1.0000, 1.0000, 1.0000, 1.0000, 1.0000, 1.0000, 1.0000, 1.0000,\n",
       "        1.0000, 0.9997, 1.0000, 1.0000, 1.0000, 1.0000, 1.0000, 1.0000, 1.0000,\n",
       "        1.0000], grad_fn=<IndexBackward>)"
      ]
     },
     "execution_count": 18,
     "metadata": {},
     "output_type": "execute_result"
    }
   ],
   "source": [
    "output[0][x[0]>0]"
   ]
  },
  {
   "cell_type": "code",
   "execution_count": 74,
   "metadata": {
    "collapsed": false
   },
   "outputs": [
    {
     "data": {
      "text/plain": [
       "tensor([0., 0., 0.,  ..., 0., 0., 0.], dtype=torch.float64)"
      ]
     },
     "execution_count": 74,
     "metadata": {},
     "output_type": "execute_result"
    }
   ],
   "source": [
    "output"
   ]
  }
 ],
 "metadata": {
  "anaconda-cloud": {},
  "kernelspec": {
   "display_name": "Python [default]",
   "language": "python",
   "name": "python3"
  },
  "language_info": {
   "codemirror_mode": {
    "name": "ipython",
    "version": 3
   },
   "file_extension": ".py",
   "mimetype": "text/x-python",
   "name": "python",
   "nbconvert_exporter": "python",
   "pygments_lexer": "ipython3",
   "version": "3.5.5"
  },
  "widgets": {
   "state": {
    "3c126124aa5741fd96ca58c7e7893639": {
     "views": [
      {
       "cell_index": 10
      }
     ]
    }
   },
   "version": "1.2.0"
  }
 },
 "nbformat": 4,
 "nbformat_minor": 2
}
